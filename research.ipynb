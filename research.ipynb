{
 "cells": [
  {
   "cell_type": "code",
   "execution_count": null,
   "metadata": {},
   "outputs": [],
   "source": [
    "import matplotlib.pyplot as plt\n",
    "import seaborn as sns\n",
    "\n",
    "import numpy as np\n",
    "import pandas as pd\n",
    "\n",
    "%matplotlib inline\n",
    "\n",
    "# БПМИ203 old edition...\n",
    "np.random.seed(203)\n",
    "\n",
    "%config InlineBackend.figure_format = 'retina'\n",
    "\n",
    "# sns.set(style='whitegrid', palette='deep')\n",
    "# sns.set(style='darkgrid', palette='rocket')\n",
    "sns.set(style='darkgrid', palette='deep')\n",
    "\n",
    "plt.rcParams['figure.figsize'] = 8, 5\n",
    "plt.rcParams['font.size'] = 12\n",
    "plt.rcParams['savefig.format'] = 'pdf'\n"
   ]
  },
  {
   "cell_type": "code",
   "execution_count": null,
   "metadata": {},
   "outputs": [],
   "source": [
    "def parse_type(name):\n",
    "    return \"/\".join(name.split('/')[1:-1])\n",
    "\n",
    "def parse_size(name):\n",
    "    return int(name.split('/')[-1].split('.')[0])\n",
    "\n",
    "def prepare_df(df):\n",
    "    kMaxSize = None\n",
    "    df[\"test_type\"] = df[\"name\"].apply(parse_type)\n",
    "    df[\"test_size\"] = df[\"name\"].apply(parse_size)\n",
    "    if kMaxSize is not None:\n",
    "        df = df[df[\"test_size\"] < kMaxSize]\n",
    "    return df\n"
   ]
  },
  {
   "cell_type": "code",
   "execution_count": null,
   "metadata": {},
   "outputs": [],
   "source": [
    "df_info = pd.read_csv(\"tests_results/tests_info.csv\")\n",
    "df_info = prepare_df(df_info)\n",
    "df_info\n"
   ]
  },
  {
   "cell_type": "code",
   "execution_count": null,
   "metadata": {},
   "outputs": [],
   "source": [
    "df_algo = pd.read_csv(\"tests_results/algorithms_results.csv\")\n",
    "df_algo = prepare_df(df_algo)\n",
    "df_algo\n"
   ]
  },
  {
   "cell_type": "code",
   "execution_count": null,
   "metadata": {},
   "outputs": [],
   "source": [
    "algorithm_names = df_algo[\"algorithm_name\"].unique()\n",
    "algorithm_names\n"
   ]
  },
  {
   "cell_type": "code",
   "execution_count": null,
   "metadata": {},
   "outputs": [],
   "source": [
    "tests_types = df_algo[\"test_type\"].unique()\n",
    "tests_types\n"
   ]
  },
  {
   "cell_type": "code",
   "execution_count": null,
   "metadata": {},
   "outputs": [],
   "source": [
    "def plot_for_test_type(test_type):\n",
    "    plt.ion()\n",
    "    fig, (ax1, ax2, ax3) = plt.subplots(1, 3, figsize=(25, 8))\n",
    "\n",
    "    fig.suptitle(f'Анализ алгоритмов для тестов из выборки {test_type}', fontsize=18)\n",
    "\n",
    "    for algorithm_name in algorithm_names:\n",
    "        subset = df_algo[(df_algo[\"test_type\"] == test_type) & (df_algo[\"algorithm_name\"] == algorithm_name)]    \n",
    "        ax1.plot(subset['test_size'], subset['find_permutation_time_ns'] / 1000000000, label=algorithm_name)\n",
    "        ax2.plot(subset['test_size'], subset['compressed_size'], label=algorithm_name)\n",
    "        ax3.plot(subset['test_size'], subset['compression_time_ns'] / 1000000000, label=algorithm_name)\n",
    "    \n",
    "    subset = df_info[df_info[\"test_type\"] == test_type]    \n",
    "    ax2.plot(subset['test_size'], subset['serialized_size'], label=\"without compression\")\n",
    "\n",
    "    ax1.legend(loc='upper left')\n",
    "    ax2.legend(loc='upper left')\n",
    "    ax3.legend(loc='upper left')\n",
    "\n",
    "    # ax1.set_xscale('log')\n",
    "    # ax2.set_xscale('log')\n",
    "    # ax3.set_xscale('log')\n",
    "\n",
    "    # ax1.set_yscale('log')\n",
    "    # ax2.set_yscale('log')\n",
    "    # ax3.set_yscale('log')\n",
    "\n",
    "    ax1.set_title('Зависимость времени выполнения от размера теста', fontsize = 15)\n",
    "    ax2.set_title('Зависимость сжатого размера от размера теста', fontsize = 15)\n",
    "    ax3.set_title('Зависимость времени сжатия от размера теста', fontsize = 15)\n",
    "\n",
    "    ax1.set_xlabel('Размер теста (# строк)', fontsize = 15)\n",
    "    ax1.set_ylabel('Время нахождения перестановки (s)', fontsize = 15)\n",
    "\n",
    "    ax2.set_xlabel('Размер теста (#строк)', fontsize = 15)\n",
    "    ax2.set_ylabel('Сжатый размер (bytes)', fontsize = 15)\n",
    "\n",
    "    ax3.set_xlabel('Размер теста (#строк)', fontsize = 15)\n",
    "    ax3.set_ylabel('Время на сжатие (s)', fontsize = 15)\n",
    "\n",
    "    plt.show()\n"
   ]
  },
  {
   "cell_type": "code",
   "execution_count": null,
   "metadata": {},
   "outputs": [],
   "source": [
    "for test_type in tests_types:\n",
    "    plot_for_test_type(test_type)\n"
   ]
  }
 ],
 "metadata": {
  "kernelspec": {
   "display_name": ".venv",
   "language": "python",
   "name": "python3"
  },
  "language_info": {
   "codemirror_mode": {
    "name": "ipython",
    "version": 3
   },
   "file_extension": ".py",
   "mimetype": "text/x-python",
   "name": "python",
   "nbconvert_exporter": "python",
   "pygments_lexer": "ipython3",
   "version": "3.10.12"
  }
 },
 "nbformat": 4,
 "nbformat_minor": 2
}
