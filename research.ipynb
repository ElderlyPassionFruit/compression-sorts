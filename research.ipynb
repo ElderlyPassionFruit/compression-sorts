{
 "cells": [
  {
   "cell_type": "code",
   "execution_count": null,
   "metadata": {},
   "outputs": [],
   "source": [
    "import matplotlib.pyplot as plt\n",
    "import seaborn as sns\n",
    "\n",
    "import numpy as np\n",
    "import pandas as pd\n",
    "\n",
    "%matplotlib inline\n",
    "\n",
    "# БПМИ203 old edition...\n",
    "np.random.seed(203)\n",
    "\n",
    "%config InlineBackend.figure_format = 'retina'\n",
    "\n",
    "# sns.set(style='whitegrid', palette='deep')\n",
    "# sns.set(style='darkgrid', palette='rocket')\n",
    "sns.set(style='darkgrid', palette='deep')\n",
    "\n",
    "plt.rcParams['figure.figsize'] = 8, 5\n",
    "plt.rcParams['font.size'] = 12\n",
    "plt.rcParams['savefig.format'] = 'pdf'\n"
   ]
  },
  {
   "cell_type": "code",
   "execution_count": null,
   "metadata": {},
   "outputs": [],
   "source": [
    "def parse_type(name):\n",
    "    return \"/\".join(name.split('/')[1:-1])\n",
    "\n",
    "def parse_size(name):\n",
    "    return int(name.split('/')[-1].split('.')[0])\n",
    "\n",
    "def prepare_df(df):\n",
    "    kMaxSize = None\n",
    "    df[\"test_type\"] = df[\"name\"].apply(parse_type)\n",
    "    df[\"rows\"] = df[\"name\"].apply(parse_size)\n",
    "    if kMaxSize is not None:\n",
    "        df = df[df[\"rows\"] < kMaxSize]\n",
    "    return df\n"
   ]
  },
  {
   "cell_type": "code",
   "execution_count": null,
   "metadata": {},
   "outputs": [],
   "source": [
    "df_info = pd.read_csv(\"tests_results/tests_info.csv\")\n",
    "df_info = prepare_df(df_info)\n",
    "df_info\n"
   ]
  },
  {
   "cell_type": "code",
   "execution_count": null,
   "metadata": {},
   "outputs": [],
   "source": [
    "df_algo = pd.read_csv(\"tests_results/algorithms_results.csv\")\n",
    "df_algo = prepare_df(df_algo)\n",
    "df_algo\n"
   ]
  },
  {
   "cell_type": "code",
   "execution_count": null,
   "metadata": {},
   "outputs": [],
   "source": [
    "algorithm_names = df_algo[\"algorithm_name\"].unique()\n",
    "algorithm_names\n"
   ]
  },
  {
   "cell_type": "code",
   "execution_count": null,
   "metadata": {},
   "outputs": [],
   "source": [
    "tests_types = df_algo[\"test_type\"].unique()\n",
    "tests_types\n"
   ]
  },
  {
   "cell_type": "code",
   "execution_count": null,
   "metadata": {},
   "outputs": [],
   "source": [
    "def plot_for_test_type_compression_sorts(test_type):\n",
    "    plt.ion()\n",
    "    fig, ((ax1, ax2), (ax3, ax4)) = plt.subplots(2, 2, figsize=(20, 20))\n",
    "\n",
    "    fig.suptitle(f'Analysis of algorithms for tests from the set {test_type}', fontsize=22, y = 0.93)\n",
    "\n",
    "    info = df_info[df_info[\"test_type\"] == test_type].copy()\n",
    "    info.index = np.arange(len(info))\n",
    "\n",
    "    for algorithm_name in algorithm_names:\n",
    "        subset = df_algo[(df_algo[\"test_type\"] == test_type) & (df_algo[\"algorithm_name\"] == algorithm_name)].copy()\n",
    "        if len(subset) == 0:\n",
    "            continue\n",
    "        assert len(subset) == len(info)\n",
    "        subset.index = np.arange(len(subset))\n",
    "        prettified_name = algorithm_name\n",
    "        if algorithm_name.split('-')[-1].isdigit():\n",
    "            prettified_name = \" \".join(algorithm_name.split(\"-\")[:-1]) + \" budget: \" + str(int(algorithm_name.split(\"-\")[-1]) // 10**6) + \"ms\"\n",
    "        ax1.plot(subset['rows'], subset['find_permutation_time_ns'] / 1000000000, label=prettified_name, marker='o', markersize=3, alpha=0.75)\n",
    "        ax2.plot(subset['rows'], subset['compression_time_ns'] / 1000000000, label=prettified_name, marker='o', markersize=3, alpha=0.75)\n",
    "        ax3.plot(subset['rows'], subset['compressed_size'], label=prettified_name, marker='o', markersize=3, alpha=0.75)\n",
    "        ax4.plot(subset['rows'], 1 - subset['compressed_size'] / info[\"serialized_size\"], label=prettified_name, marker='o', markersize=3, alpha=0.75)\n",
    "    \n",
    "    ax3.plot(info['rows'], info['serialized_size'], label=\"without compression\")\n",
    "\n",
    "    ax1.legend(loc='upper left')\n",
    "    ax2.legend(loc='upper left')\n",
    "    ax3.legend(loc='upper left')\n",
    "    ax4.legend(loc='best')\n",
    "\n",
    "    # ax1.set_xscale('log')\n",
    "    # ax2.set_xscale('log')\n",
    "    # ax3.set_xscale('log')\n",
    "\n",
    "    # ax1.set_yscale('log')\n",
    "    # ax2.set_yscale('log')\n",
    "    # ax3.set_yscale('log')\n",
    "\n",
    "    ax4.set_xscale('log')\n",
    "\n",
    "    ax1.set_title(\"Dependence of the algorithm's running time\", fontsize = 16)\n",
    "    ax2.set_title('Dependence of the compression time after applying the permutation', fontsize = 16)\n",
    "    ax3.set_title('Dependence of the compressed size', fontsize = 16)\n",
    "    ax4.set_title('Dependence of the compression ratio', fontsize = 16)\n",
    "  \n",
    "    ax1.set_xlabel('Number of lines', fontsize = 15)\n",
    "    ax1.set_ylabel('Seconds', fontsize = 15)\n",
    "\n",
    "    ax2.set_xlabel('Number of lines', fontsize = 15)\n",
    "    ax2.set_ylabel('Seconds', fontsize = 15)\n",
    "\n",
    "    ax3.set_xlabel('Number of lines', fontsize = 15)\n",
    "    ax3.set_ylabel('Bytes', fontsize = 15)\n",
    "\n",
    "    ax4.set_xlabel('Number of lines', fontsize = 15)\n",
    "    ax4.set_ylabel('Compression ratio', fontsize = 15)\n",
    "\n",
    "    fig.savefig(f'tests_results/{test_type.split(\"/\")[-1]}.svg')\n",
    "\n",
    "    plt.show()\n"
   ]
  },
  {
   "cell_type": "code",
   "execution_count": null,
   "metadata": {},
   "outputs": [],
   "source": [
    "for test_type in tests_types:\n",
    "    plot_for_test_type_compression_sorts(test_type)\n"
   ]
  },
  {
   "cell_type": "code",
   "execution_count": null,
   "metadata": {},
   "outputs": [],
   "source": [
    "df_clickhouse = pd.read_csv(\"tests_results/clickhouse_tests.csv\")\n",
    "df_clickhouse = prepare_df(df_clickhouse)\n",
    "df_clickhouse\n"
   ]
  },
  {
   "cell_type": "code",
   "execution_count": null,
   "metadata": {},
   "outputs": [],
   "source": [
    "tests_types = df_clickhouse[\"test_type\"].unique()\n",
    "tests_types\n"
   ]
  },
  {
   "cell_type": "code",
   "execution_count": null,
   "metadata": {},
   "outputs": [],
   "source": [
    "def plot_for_test_type_clickhouse(test_type):\n",
    "    plt.ion()\n",
    "    fig, (ax1, ax2) = plt.subplots(1, 2, figsize=(20, 8))\n",
    "\n",
    "    fig.suptitle(f'Analysis of the effectiveness of compression in the ClickHouse for the set {test_type}', fontsize=20)\n",
    "    \n",
    "    kStart = 1000\n",
    "\n",
    "    info = df_info[df_info[\"test_type\"] == test_type].copy()\n",
    "    kMinRows = max(10, max(info[\"rows\"]) / kStart)\n",
    "    info = info[info[\"rows\"] > kMinRows]\n",
    "    info.index = np.arange(len(info))\n",
    "\n",
    "    for use_compression_optimization in [True, False]:\n",
    "        subset = df_clickhouse[(df_clickhouse[\"test_type\"] == test_type) & (df_clickhouse[\"use_compression_optimization\"] == use_compression_optimization)].copy()\n",
    "        subset = subset[subset[\"rows\"] > kMinRows]\n",
    "        assert len(subset) == len(info)\n",
    "        subset.index = np.arange(len(info))\n",
    "        color = \"blueviolet\"\n",
    "        if use_compression_optimization:\n",
    "            color = \"darkgreen\"\n",
    "        ax1.plot(subset['rows'], subset['size'], label=f\"optimize={use_compression_optimization}\", color=color, marker='o', markersize=3, alpha=0.75)\n",
    "        ax2.plot(subset['rows'], 1 - subset['size'] / info['serialized_size'], label = f\"allow optimize = {use_compression_optimization}\", color=color, marker='o', markersize=3, alpha=0.75)\n",
    "\n",
    "    ax2.set_xscale('log')\n",
    "\n",
    "    ax1.legend(loc='upper left')\n",
    "    ax2.legend(loc='upper left')\n",
    "\n",
    "    ax1.set_title('Dependence of the compressed size', fontsize = 16)\n",
    "    ax2.set_title('Dependence of the compression ratio', fontsize = 16)\n",
    "\n",
    "    ax1.set_xlabel('Number of lines', fontsize = 15)\n",
    "    ax1.set_ylabel('Bytes', fontsize = 15)\n",
    "    \n",
    "    ax2.set_xlabel('Number of lines', fontsize = 15)\n",
    "    ax2.set_ylabel('Compression ratio', fontsize = 15)\n",
    "\n",
    "    fig.savefig(f'tests_results/clickhouse_{test_type.split(\"/\")[-1]}.svg')\n",
    "\n",
    "    plt.show()\n"
   ]
  },
  {
   "cell_type": "code",
   "execution_count": null,
   "metadata": {},
   "outputs": [],
   "source": [
    "for test_type in tests_types:\n",
    "    plot_for_test_type_clickhouse(test_type)\n"
   ]
  }
 ],
 "metadata": {
  "kernelspec": {
   "display_name": ".venv",
   "language": "python",
   "name": "python3"
  },
  "language_info": {
   "codemirror_mode": {
    "name": "ipython",
    "version": 3
   },
   "file_extension": ".py",
   "mimetype": "text/x-python",
   "name": "python",
   "nbconvert_exporter": "python",
   "pygments_lexer": "ipython3",
   "version": "3.10.12"
  }
 },
 "nbformat": 4,
 "nbformat_minor": 2
}
